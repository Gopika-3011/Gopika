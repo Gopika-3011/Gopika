{
  "nbformat": 4,
  "nbformat_minor": 0,
  "metadata": {
    "colab": {
      "provenance": [],
      "authorship_tag": "ABX9TyNVCfoDGjCh7gl7hxe0hU14",
      "include_colab_link": true
    },
    "kernelspec": {
      "name": "python3",
      "display_name": "Python 3"
    },
    "language_info": {
      "name": "python"
    }
  },
  "cells": [
    {
      "cell_type": "markdown",
      "metadata": {
        "id": "view-in-github",
        "colab_type": "text"
      },
      "source": [
        "<a href=\"https://colab.research.google.com/github/Gopika-3011/Gopika/blob/main/digit.ipynb\" target=\"_parent\"><img src=\"https://colab.research.google.com/assets/colab-badge.svg\" alt=\"Open In Colab\"/></a>"
      ]
    },
    {
      "cell_type": "markdown",
      "source": [
        "Hand Written Digit Prediction-Classification Analysis\n",
        "\n",
        "The digits dataset consists of 8x8 pixel images of digits. The images attributes of the dataset stores 8x8 arrays of grayscale values for each image. We will use these arrays to visualize the first 4 images. The target attribute of the dataset stores the digit each image represents.\n",
        "\n"
      ],
      "metadata": {
        "id": "WqiAjNsSyRv_"
      }
    },
    {
      "cell_type": "markdown",
      "source": [
        "IMPORT LIBRARY"
      ],
      "metadata": {
        "id": "299O0U8wyZT0"
      }
    },
    {
      "cell_type": "code",
      "source": [
        "import pandas as pd"
      ],
      "metadata": {
        "id": "QslU2SnfyYb3"
      },
      "execution_count": 16,
      "outputs": []
    },
    {
      "cell_type": "code",
      "source": [
        "import numpy as np"
      ],
      "metadata": {
        "id": "G8YY-KZVy1A1"
      },
      "execution_count": 17,
      "outputs": []
    },
    {
      "cell_type": "code",
      "source": [
        "import matplotlib.pyplot as plt"
      ],
      "metadata": {
        "id": "wqeqt7jry6O8"
      },
      "execution_count": 18,
      "outputs": []
    },
    {
      "cell_type": "markdown",
      "source": [
        "IMPORT DATA"
      ],
      "metadata": {
        "id": "8XZqP2rzzBR9"
      }
    },
    {
      "cell_type": "code",
      "source": [
        "from sklearn.datasets import load_digits"
      ],
      "metadata": {
        "id": "hEqEiQgazFQE"
      },
      "execution_count": 19,
      "outputs": []
    },
    {
      "cell_type": "code",
      "source": [
        "df = load_digits()"
      ],
      "metadata": {
        "id": "xYZUPuPszYDA"
      },
      "execution_count": 20,
      "outputs": []
    },
    {
      "cell_type": "code",
      "source": [
        "_, axes = plt.subplots(nrows=1, ncols=4, figsize=(10, 3))\n",
        "for ax, image, label in zip(axes, df.images, df.target):\n",
        "    ax.set_axis_off()\n",
        "    ax.imshow(image, cmap=plt.cm.gray_r, interpolation=\"nearest\")\n",
        "    ax.set_title(\"Training: %i\" % label)\n"
      ],
      "metadata": {
        "colab": {
          "base_uri": "https://localhost:8080/",
          "height": 227
        },
        "id": "8X3J4tNEzds8",
        "outputId": "4bd4f855-9922-45bd-c4ea-ba23019253a8"
      },
      "execution_count": 21,
      "outputs": [
        {
          "output_type": "display_data",
          "data": {
            "text/plain": [
              "<Figure size 1000x300 with 4 Axes>"
            ],
            "image/png": "[encoded data removed]"
          },
          "metadata": {}
        }
      ]
    },
    {
      "cell_type": "markdown",
      "source": [
        "DATA PREPROCESSING\n",
        "\n",
        "Flatten Image"
      ],
      "metadata": {
        "id": "rX-pGS_oztTy"
      }
    },
    {
      "cell_type": "markdown",
      "source": [
        "![download (1).png](data:image/png;base64,iVBORw0KGgoAAAANSUhEUgAAApcAAAHFCAYAAACnwtLwAAAAAXNSR0IArs4c6QAAAARnQU1BAACxjwv8YQUAAAAJcEhZcwAAEnQAABJ0Ad5mH3gAABEYSURBVHhe7d2/bhvZwcbhM98F5CIC0QEEl6nIIm0kB8hWbt1RpdS4MxAEcOdGKqVuW1cOEEtpU4hVyoWBLIlcRG6A3ww5JEd/SdmvHJl6ngWRITmcIQlk9dszZ4bVtFYAACDg/9r/BQCAbyYuAQCIEZcAAMSISwAAYsQlAAAx4hIAgBhxCQBAjLgEACBGXAIAECMuAQCIEZcAAMSISwAAYsQlAAAx4hIAgBhxCQBAjLiELTO5OCiDQVWqanEblMHBRZm0z99mcjJYrj84ubbm5KQM7nrumq/Zd/2qcrJ4zeBkzboAPHXiErZIE4m9/bMyGrUPzIzK6Gy/9OrIu8vO4bsybJdHRx9Kd82LD0f1FhrD8u5wZ7Z0m6/dNwDbRVzC1rgoH47asusfl/F0WqbTcTlfVOPZpyvReNVeOV2tWN4vRignJ+X92Xyxf/y2Xusu37JvALaJuIQt1H/9qszHGHfK3k+Lwltj72057s8X56OXk3LyZrNRy66v2jcAW0Ncwtbold1uHM4GH+tAXAw9Dn+6Z+SxsVMO33VGLwdvymIwcnh+uua137rv61bzMA/qjV0cDJbzPqvBQZkNrE4uysGgM1f0+tzOycns+eXrZq8dlIMb80bn21+uc+V2sBpxnW2v+1yzrXXzSQGeoSmwPcbH07rxps3/ta/c+sfTcbvK/cbT4/5Xvvar993Z53LdW97HlVv/1n31jxd7uv/1w/N2tbX7GU5nq54Pb3muva02BkDNyCVsk53Dcnk+LO0g4lL/9Yt2aZ2d8ur11VevDnOv8c37vtvwfNz8h3AZ1yU4N6r/GZbz8Xxu5+Lh0cfP7Uhi/TneHZfj+nV1bs5e213v7FM7Hjn5XD7ORmf7pe7S+T6Wn6He/rQZsV2NwNbx2m5rvt7M2fv5SCoAM+IStsjskkLNGdv1cn9Yx9Vwnkmjo03P2O6cmNO6fvb4Xb5933cYnpfTvXYW56vXy3idHaqfPXwziBs7e6/Ki09vypvloeze8jD/gywDtPksveVh8ebM+PbR8mXcLgIgLmFrTE7Km7aempG+y9PDcnh6uRrtO9sv6xpvcvK+tGN05fi4M/9y3dBcYN9ZzZzNXtk/G127NNI1O6/KvEtH5ai3isbZSxbzRMdf5vfv1C+7vXYRAHEJW2MZQU3srA5kd0f7fvn1vkjsjFoO35XDw+7Z42/uP/T7zfsO64w2DjuHspeXRrqhX/qLN9osD8/L+LQ9Bam3u/wMw/PFIfbu7bJseCI9wLMgLmHrjMrHz6uQm3z+uBx5e/ni7gq6ONhfjVq+bcKqe/b4qBx92GTo8ev2HdcdbWynfE4uVtfsXLr4MD9U3n9dfr5cxeJlHZbLd7vzorxsF8/en7Rnwjcm7S8S+VUhgC5xCdti76fOr+x05gYuRiP7x2XWjLfpXCx9Nmq5KKu9086F0O85ceVb9v0YOu/nbH/+fnr7i2t23mJ0VHrte57dmksYLS9ttFferoZwy357+LyZw7k8hA7AkriErbFXTpszoof95WHcmX6/DI/Py/jy8M6zvrs/8Xi+OBzc2nt73G7vvtHLr9/346jfz/i8tOcUzfXrz7acR9rae3v7ofLR1Z+t3Dm8LOPz43p7VzY4O3Hp/Ofv/dkAnrZq2hwHAniOLg5mZ7g3I6urAG4uqt6cDNQsLy5HBMCmjFwCz9bFp+uTMOd+/aVd6O8WJ4IDPIyRS+DZaq7NuZwXeovm7PBrswQAWMPIJfBs7Rz+PJuHeWUqZa3fzM8cj4UlwFcwcgkAQIyRSwAAYsQlAAAx4hIAgBhxCQBAjLgEACBGXAIAECMuAQCIEZcAAMSISwAAYsQlAAAx4hIAgBhxCQBAjLgEACBGXAIAECMuAQCIEZcAAMSISwAAYqpprV0GNlBVVbsEz48/GcA64hIeqInL3/7tT+09eD7+8+e/i0tgLYfFAQCIEZcAAMSISwAAYsQlAAAx4hIAgBhxCQBAjLgEACBGXAIAECMuAQCIEZcAAMSISwAAYsQlAAAx4hIAgBhxCQBAjLgEACBGXAIAECMuAQCIEZcAAMSISwAAYsQlAAAx4hIAgBhxCQBAjLgEACBGXAIAECMuAQCIEZcAAMSISwAAYsQlAAAx4hIAgBhxCQBAjLgEACBGXAIAECMuAQCIEZcAAMSISwAAYsQlAAAx4hIAgBhxCQBAjLgEACCmmtbaZWADVVW1S/D8+JMBrCMu4YGauJz+t70Dz0j1G3EJrOewOAAAMeISAIAYcQkAQIy4BAAgRlwCABAjLgEAiBGXAADEiEsAAGLEJQAAMeISAIAYcQkAQIy4BAAgRlwCABAjLgEAiBGXAADEiEsAAGLEJQAAMeISAIAYcQkAQIy4BAAgRlwCABAjLgEAiBGXAADEiEsAAGLEJQAAMeISAIAYcQkAQIy4BAAgRlwCABAjLgEAiBGXAADEiEsAAGLEJQAAMeISAIAYcQkAQIy4BAAgRlwCABAjLgEAiBGXAADEVNNauwxsoKqqdgmeH38ygHXEJTxQE5fTv/yuvQfPR/XXf4tLYC2HxQEAiBGXAADEiEsAAGLEJQAAMeISAIAYcQkAQIy4BAAgRlwCABAjLgEAiBGXAADEiEsAAGLEJQAAMeISAIAYcQkAQIy4BAAgRlwCABAjLgEAiBGXAADEiEsAAGLEJQAAMeISAIAYcQkAQIy4BAAgRlwCABAjLgEAiBGXAADEiEsAAGLEJQAAMeISAIAYcQkAQIy4BAAgRlwCABAjLgEAiBGXAADEiEsAAGLEJQAAMeISAIAYcQkAQIy4BAAgpprW2mVgA1VVtUvw/PiTAawjLuGBmrj8wx//1d6D5+Of//i9uATWclgcAIAYcQkAQIy4BAAgRlwCABAjLgEAiBGXAADEiEsAAGLEJQAAMeISAIAYcQkAQIy4BAAgRlwCABAjLgEAiBGXAADEiEsAAGLEJQAAMeISAIAYcQkAQIy4BAAgRlwCABAjLgEAiBGXAADEiEsAAGLEJQAAMeISAIAYcQkAQIy4BAAgRlwCABAjLgEAiBGXAADEiEsAAGLEJQAAMeISAIAYcQkAQIy4BAAgRlwCABAjLgEAiBGXAADEiEsAAGKqaa1dBjZQVVW7BM+PPxnAOuISAIAYh8UBAIgRlwAAxIhLAABixCUAADHiEgCAGHEJAECMuAQAIEZcAgAQIy4BAIgRlwAAxIhLAABixCUAADHiEgCAGHEJAECMuAQAIEZcAgAQIy4BAIgRlwAAxIhLAABixCUAADHiEgCAGHEJAECMuAQAIEZcAgAQIy4BAIgRlwAAxIhLAABixCUAADHiEgCAGHEJAECMuAQAIEZcAgAQIy4BAIgRlwAAxIhLAABixCUAADHiEgCAGHEJAECMuAQAIEZcAgAQIy4BAIgRlwAAxIhLAABixCUAADHiEgCAGHEJAECMuAQAIEZcAgAQIy4BAIgRlwAAxIhLAABixCUAADHiEgCAGHEJAECMuAQAIEZcAgAQIy4BAIgRlwAAxIhLAABixCUAADHiEgCAGHEJAECMuAQAIEZcAgAQIy4BAIgRlwAAxIhLAABixCUAADHiEgCAGHEJAECMuAQAIEZcAgAQIy4BAIgRlwAAxIhLAABixCUAADHiEgCAGHEJAECMuAQAIEZcAgAQIy4BAIgRlwAAxIhLAABixCUAADHiEgCAGHEJAECMuAQAIEZcAgAQIy4BAIgRlwAAxIhLAABixCUAADHiEgCAGHEJZFwclKqqysFFex+AZ0lcAuu14Xjb7VnEpHAG2Ji4BDY2PJ+W6fTq7XSvfRIAauISeAIuykEzEnrr0OB9zwHw1IhLAABixCXwuG6Zr9kdhJycDOrH9stZc+dsv11nUE4m9z+30o5sdm43Bjln7+GgXrNZ7K57fVubm7+3ZpuTcjLobHOx88lJGSz3c8d8zTXfzcJ8X1fXm90GJ/XeFzb4HgC+A3EJPJpZFL3fLePOHM3zYdOJq6jbObysHz8v9cPNpM52vctyuHP/czOzgKvjc/lcfat3cLZflcGNajwr+3Vwvd8dt+uOy3F/VI568+j8Os02e+XLu9W+mwgeDOrP3ftS3rXv6fpnbmzy3TSa9XpHpRyP2/XGx6XfPNF85svDMvsqHvQ9ADwucQlsrImV7sjYYjTwLrM4XARQa+9tE0ej8vHzt0fPxYejekvDct49q2jvdBZpo4+fO6N6c80JSZfLMt0ph++abD0rn75hhK/Z5nL3e2/rYK33PXpZzqenZfXwzc+82XczKZ8/juqdvFsF9c5hmb3tX35dfr6Hfg8Aj0lcAhu7ebb4KqC+v4vyqTlePvzpxnvo7TaF96WM2/tz/bLbaxcXeruzUcBffv3a/Lplm43+brny8M6L8rJdzHvo9wDwuMQl8KhuzBfsNaNsQcu5mKtb7yi6h0ez/rvZKa9e14F49n51qHxyUt7XMdl//erKqOeP/D0A20VcAo+mOXnmynzB5raYM5jSnWd45fa/HFVdb7Pvpj0sXifnUW8VoPWLOof3Wz/o9wBsH3EJPJLF4drOfMGoXmmO+nbnHv44NvxuJp/LbMrltekIV8PyR/4egG0kLoFH0kbP2afOST8X5eDWw+L3BdJdz+2Uw5+PS390VHrXrrkzO9z8pK/Ds+F3087VvHkiVfcs8B/5ewC2kbgEHkkdPZfN5X7mlwCaR9H7sjtuHmtXWeoE0my97uV47nlu57BcNpcqujbfsPflXZk+6d+l3PS72SunzSnf1w9514+NjnqrwPxhvwdgG1X1v6im7TIAT0lz/crex/J63Lm250xz4fZeOXpZR6d4BJ4YI5cAT9Tk88cyKi/LixvzMsflixPBgSdKXAI8UTsvZjMuy/61eZMXB81PYvbL8VujlsDT47A4wFPW/P74fnNqedfwyi8AATwl4hIAgBiHxQEAiBGXAADEiEsAAGLEJQAAMeISAIAYcQkAQIy4BAAgRlwCABAjLgEAiBGXAADEiEsAAGLEJQAAMeISAIAYcQkAQIy4BAAgRlwCABAjLgEAiBGXAADEiEsAAGLEJQAAMeISAIAYcQkAQIy4BAAgRlwCABAjLgEAiBGXAADEiEsAAGLEJQAAMeISAIAYcQkAQIy4BAAgRlwCABAjLgEAiKmmtXb5UVVV1S4BAPCjeGgqfte4/O3f/tTeg6frP3/+e5n+t70DD1T9pv4X8V9+196D21V//Xf5wx//1d6Dp+uf//j9g+PSYXEAAGLEJQAAMeISAIAYcQkAQIy4BAAgRlwCABAjLgEAiBGXAADEiEsAAGLEJQAAMeISAIAYcQkAQIy4BAAgRlwCABAjLgEAiBGXAADEiEsAAGLEJQAAMeISAIAYcQkAQIy4BAAgRlwCABAjLgEAiBGXAADEiEsAAGLEJQAAMeISAIAYcQkAQIy4BAAgRlwCABAjLgEAiBGXAADEiEsAAGLEJQAAMdW01i4/qqqq2iUAAH4UD03F7xaXAABsP4fFAQCIEZcAAMSISwAAYsQlAAAx4hIAgBhxCQBAjLgEACBGXAIAECMuAQCIEZcAAMSISwAAYsQlAAAx4hIAgBhxCQBAjLgEACBGXAIAECMuAQCIEZcAAMSISwAAYsQlAAAx4hIAgBhxCQBAjLgEACBGXAIAECMuAQCIEZcAAMSISwAAYsQlAAAx4hIAgBhxCQBAjLgEACBGXAIAECMuAQCIEZcAAMSISwAAYsQlAAAx4hIAgBhxCQBAjLgEACBGXAIAECMuAQCIEZcAAMSISwAAYsQlAAAx4hIAgBhxCQBAjLgEACBGXAIAECMuAQCIEZcAAMSISwAAYsQlAAAx4hIAgJBS/h9SZD846OD5OAAAAABJRU5ErkJggg==)"
      ],
      "metadata": {
        "id": "y5LRzNwuzwlf"
      }
    },
    {
      "cell_type": "code",
      "source": [
        "df.images.shape\n"
      ],
      "metadata": {
        "colab": {
          "base_uri": "https://localhost:8080/"
        },
        "id": "DHF0zo03zuzD",
        "outputId": "a64cc64b-5e89-45b4-b46b-bf623bcec9ca"
      },
      "execution_count": 22,
      "outputs": [
        {
          "output_type": "execute_result",
          "data": {
            "text/plain": [
              "(1797, 8, 8)"
            ]
          },
          "metadata": {},
          "execution_count": 22
        }
      ]
    },
    {
      "cell_type": "code",
      "source": [
        "df.images[0]"
      ],
      "metadata": {
        "colab": {
          "base_uri": "https://localhost:8080/"
        },
        "id": "9Jerss4Wz_Pu",
        "outputId": "9583e6cc-e867-4490-a8b5-cd94b6fd7e7e"
      },
      "execution_count": 23,
      "outputs": [
        {
          "output_type": "execute_result",
          "data": {
            "text/plain": [
              "array([[ 0.,  0.,  5., 13.,  9.,  1.,  0.,  0.],\n",
              "       [ 0.,  0., 13., 15., 10., 15.,  5.,  0.],\n",
              "       [ 0.,  3., 15.,  2.,  0., 11.,  8.,  0.],\n",
              "       [ 0.,  4., 12.,  0.,  0.,  8.,  8.,  0.],\n",
              "       [ 0.,  5.,  8.,  0.,  0.,  9.,  8.,  0.],\n",
              "       [ 0.,  4., 11.,  0.,  1., 12.,  7.,  0.],\n",
              "       [ 0.,  2., 14.,  5., 10., 12.,  0.,  0.],\n",
              "       [ 0.,  0.,  6., 13., 10.,  0.,  0.,  0.]])"
            ]
          },
          "metadata": {},
          "execution_count": 23
        }
      ]
    },
    {
      "cell_type": "code",
      "source": [
        "df.images[0].shape"
      ],
      "metadata": {
        "colab": {
          "base_uri": "https://localhost:8080/"
        },
        "id": "dBIRU-Bv0Sck",
        "outputId": "eedee31d-b210-4848-f363-9b5facbc2c42"
      },
      "execution_count": 24,
      "outputs": [
        {
          "output_type": "execute_result",
          "data": {
            "text/plain": [
              "(8, 8)"
            ]
          },
          "metadata": {},
          "execution_count": 24
        }
      ]
    },
    {
      "cell_type": "code",
      "source": [
        "len(df.images)"
      ],
      "metadata": {
        "colab": {
          "base_uri": "https://localhost:8080/"
        },
        "id": "OKmmAbW90ZBl",
        "outputId": "e17b6a95-a2b0-47aa-be40-f66e7ae69298"
      },
      "execution_count": 25,
      "outputs": [
        {
          "output_type": "execute_result",
          "data": {
            "text/plain": [
              "1797"
            ]
          },
          "metadata": {},
          "execution_count": 25
        }
      ]
    },
    {
      "cell_type": "code",
      "source": [
        "n_samples = len(df.images)\n",
        "data = df.images.reshape((n_samples, -1))"
      ],
      "metadata": {
        "id": "qDoWd1ZN0woH"
      },
      "execution_count": 26,
      "outputs": []
    },
    {
      "cell_type": "code",
      "source": [
        "data[0]"
      ],
      "metadata": {
        "colab": {
          "base_uri": "https://localhost:8080/"
        },
        "id": "qRzDx-7r01wM",
        "outputId": "54d75ebf-aa0f-4992-8762-4726db7192a1"
      },
      "execution_count": 27,
      "outputs": [
        {
          "output_type": "execute_result",
          "data": {
            "text/plain": [
              "array([ 0.,  0.,  5., 13.,  9.,  1.,  0.,  0.,  0.,  0., 13., 15., 10.,\n",
              "       15.,  5.,  0.,  0.,  3., 15.,  2.,  0., 11.,  8.,  0.,  0.,  4.,\n",
              "       12.,  0.,  0.,  8.,  8.,  0.,  0.,  5.,  8.,  0.,  0.,  9.,  8.,\n",
              "        0.,  0.,  4., 11.,  0.,  1., 12.,  7.,  0.,  0.,  2., 14.,  5.,\n",
              "       10., 12.,  0.,  0.,  0.,  0.,  6., 13., 10.,  0.,  0.,  0.])"
            ]
          },
          "metadata": {},
          "execution_count": 27
        }
      ]
    },
    {
      "cell_type": "code",
      "source": [
        "data[0].shape"
      ],
      "metadata": {
        "colab": {
          "base_uri": "https://localhost:8080/"
        },
        "id": "-81YT3dm08uH",
        "outputId": "2aebc345-0389-4315-c351-eef14aa47bbd"
      },
      "execution_count": 28,
      "outputs": [
        {
          "output_type": "execute_result",
          "data": {
            "text/plain": [
              "(64,)"
            ]
          },
          "metadata": {},
          "execution_count": 28
        }
      ]
    },
    {
      "cell_type": "code",
      "source": [
        "data.shape"
      ],
      "metadata": {
        "colab": {
          "base_uri": "https://localhost:8080/"
        },
        "id": "BWH_bJIm1OYw",
        "outputId": "be40cc7c-ef6f-4152-a9c0-ffad47b56827"
      },
      "execution_count": 29,
      "outputs": [
        {
          "output_type": "execute_result",
          "data": {
            "text/plain": [
              "(1797, 64)"
            ]
          },
          "metadata": {},
          "execution_count": 29
        }
      ]
    },
    {
      "cell_type": "markdown",
      "source": [
        "SCALING IMAGE DATA"
      ],
      "metadata": {
        "id": "fovuj9az1fOd"
      }
    },
    {
      "cell_type": "code",
      "source": [
        "data.min()"
      ],
      "metadata": {
        "colab": {
          "base_uri": "https://localhost:8080/"
        },
        "id": "z2TMnkJg1dXr",
        "outputId": "e22eca8a-7c04-4460-bb2a-f9fea1aafc81"
      },
      "execution_count": 30,
      "outputs": [
        {
          "output_type": "execute_result",
          "data": {
            "text/plain": [
              "0.0"
            ]
          },
          "metadata": {},
          "execution_count": 30
        }
      ]
    },
    {
      "cell_type": "code",
      "source": [
        "data.max()"
      ],
      "metadata": {
        "colab": {
          "base_uri": "https://localhost:8080/"
        },
        "id": "fJr1_Ijm2APb",
        "outputId": "c626cb1c-b78f-4829-cc4c-fff09762f811"
      },
      "execution_count": 31,
      "outputs": [
        {
          "output_type": "execute_result",
          "data": {
            "text/plain": [
              "16.0"
            ]
          },
          "metadata": {},
          "execution_count": 31
        }
      ]
    },
    {
      "cell_type": "code",
      "source": [
        "data = data/16"
      ],
      "metadata": {
        "id": "e83FT4UG2Iw4"
      },
      "execution_count": 32,
      "outputs": []
    },
    {
      "cell_type": "code",
      "source": [
        "data.min()"
      ],
      "metadata": {
        "colab": {
          "base_uri": "https://localhost:8080/"
        },
        "id": "shEnxC1y2Ml_",
        "outputId": "3deebc75-40bf-4eb5-e9ec-098ccccc9774"
      },
      "execution_count": 33,
      "outputs": [
        {
          "output_type": "execute_result",
          "data": {
            "text/plain": [
              "0.0"
            ]
          },
          "metadata": {},
          "execution_count": 33
        }
      ]
    },
    {
      "cell_type": "code",
      "source": [
        "data.max()"
      ],
      "metadata": {
        "colab": {
          "base_uri": "https://localhost:8080/"
        },
        "id": "wHnkXUqU2QRJ",
        "outputId": "c8182d65-f971-44b6-bca9-801d3a0c73b6"
      },
      "execution_count": 34,
      "outputs": [
        {
          "output_type": "execute_result",
          "data": {
            "text/plain": [
              "1.0"
            ]
          },
          "metadata": {},
          "execution_count": 34
        }
      ]
    },
    {
      "cell_type": "code",
      "source": [
        "data[0]"
      ],
      "metadata": {
        "colab": {
          "base_uri": "https://localhost:8080/"
        },
        "id": "0aCPu3c22X1A",
        "outputId": "5faaaa39-0386-41fc-b774-6c3f8a4c9670"
      },
      "execution_count": 35,
      "outputs": [
        {
          "output_type": "execute_result",
          "data": {
            "text/plain": [
              "array([0.    , 0.    , 0.3125, 0.8125, 0.5625, 0.0625, 0.    , 0.    ,\n",
              "       0.    , 0.    , 0.8125, 0.9375, 0.625 , 0.9375, 0.3125, 0.    ,\n",
              "       0.    , 0.1875, 0.9375, 0.125 , 0.    , 0.6875, 0.5   , 0.    ,\n",
              "       0.    , 0.25  , 0.75  , 0.    , 0.    , 0.5   , 0.5   , 0.    ,\n",
              "       0.    , 0.3125, 0.5   , 0.    , 0.    , 0.5625, 0.5   , 0.    ,\n",
              "       0.    , 0.25  , 0.6875, 0.    , 0.0625, 0.75  , 0.4375, 0.    ,\n",
              "       0.    , 0.125 , 0.875 , 0.3125, 0.625 , 0.75  , 0.    , 0.    ,\n",
              "       0.    , 0.    , 0.375 , 0.8125, 0.625 , 0.    , 0.    , 0.    ])"
            ]
          },
          "metadata": {},
          "execution_count": 35
        }
      ]
    },
    {
      "cell_type": "markdown",
      "source": [
        "TRAIN TEST SPLIT DATA"
      ],
      "metadata": {
        "id": "yWt4K1y82heW"
      }
    },
    {
      "cell_type": "code",
      "source": [
        "from sklearn.model_selection import train_test_split"
      ],
      "metadata": {
        "id": "FV6cavUo2gcR"
      },
      "execution_count": 36,
      "outputs": []
    },
    {
      "cell_type": "code",
      "source": [
        "X_train, X_test, y_train, y_test = train_test_split(data, df.target, test_size=0.3)\n"
      ],
      "metadata": {
        "id": "w9JUhJNc2vhn"
      },
      "execution_count": 37,
      "outputs": []
    },
    {
      "cell_type": "code",
      "source": [
        "X_train.shape, X_test.shape, y_train.shape, y_test.shape"
      ],
      "metadata": {
        "colab": {
          "base_uri": "https://localhost:8080/"
        },
        "id": "MRScxImw24eP",
        "outputId": "06f28f7e-4836-4df4-8c45-576d5644d005"
      },
      "execution_count": 38,
      "outputs": [
        {
          "output_type": "execute_result",
          "data": {
            "text/plain": [
              "((1257, 64), (540, 64), (1257,), (540,))"
            ]
          },
          "metadata": {},
          "execution_count": 38
        }
      ]
    },
    {
      "cell_type": "markdown",
      "source": [
        "RANDOM FOREST MODEL"
      ],
      "metadata": {
        "id": "mbJgIbjK3Dr-"
      }
    },
    {
      "cell_type": "code",
      "source": [
        "from sklearn.ensemble import RandomForestClassifier"
      ],
      "metadata": {
        "id": "vmSmaI7t3CBe"
      },
      "execution_count": 39,
      "outputs": []
    },
    {
      "cell_type": "code",
      "source": [
        "rf = RandomForestClassifier()"
      ],
      "metadata": {
        "id": "Hj26dlcc3QLp"
      },
      "execution_count": 40,
      "outputs": []
    },
    {
      "cell_type": "code",
      "source": [
        "rf.fit(X_train, y_train)"
      ],
      "metadata": {
        "colab": {
          "base_uri": "https://localhost:8080/",
          "height": 74
        },
        "id": "wVLeeXvg3V9m",
        "outputId": "045d8768-ee51-484d-ad75-86abee231aae"
      },
      "execution_count": 41,
      "outputs": [
        {
          "output_type": "execute_result",
          "data": {
            "text/plain": [
              "RandomForestClassifier()"
            ],
            "text/html": [
              "<style>#sk-container-id-1 {color: black;}#sk-container-id-1 pre{padding: 0;}#sk-container-id-1 div.sk-toggleable {background-color: white;}#sk-container-id-1 label.sk-toggleable__label {cursor: pointer;display: block;width: 100%;margin-bottom: 0;padding: 0.3em;box-sizing: border-box;text-align: center;}#sk-container-id-1 label.sk-toggleable__label-arrow:before {content: \"▸\";float: left;margin-right: 0.25em;color: #696969;}#sk-container-id-1 label.sk-toggleable__label-arrow:hover:before {color: black;}#sk-container-id-1 div.sk-estimator:hover label.sk-toggleable__label-arrow:before {color: black;}#sk-container-id-1 div.sk-toggleable__content {max-height: 0;max-width: 0;overflow: hidden;text-align: left;background-color: #f0f8ff;}#sk-container-id-1 div.sk-toggleable__content pre {margin: 0.2em;color: black;border-radius: 0.25em;background-color: #f0f8ff;}#sk-container-id-1 input.sk-toggleable__control:checked~div.sk-toggleable__content {max-height: 200px;max-width: 100%;overflow: auto;}#sk-container-id-1 input.sk-toggleable__control:checked~label.sk-toggleable__label-arrow:before {content: \"▾\";}#sk-container-id-1 div.sk-estimator input.sk-toggleable__control:checked~label.sk-toggleable__label {background-color: #d4ebff;}#sk-container-id-1 div.sk-label input.sk-toggleable__control:checked~label.sk-toggleable__label {background-color: #d4ebff;}#sk-container-id-1 input.sk-hidden--visually {border: 0;clip: rect(1px 1px 1px 1px);clip: rect(1px, 1px, 1px, 1px);height: 1px;margin: -1px;overflow: hidden;padding: 0;position: absolute;width: 1px;}#sk-container-id-1 div.sk-estimator {font-family: monospace;background-color: #f0f8ff;border: 1px dotted black;border-radius: 0.25em;box-sizing: border-box;margin-bottom: 0.5em;}#sk-container-id-1 div.sk-estimator:hover {background-color: #d4ebff;}#sk-container-id-1 div.sk-parallel-item::after {content: \"\";width: 100%;border-bottom: 1px solid gray;flex-grow: 1;}#sk-container-id-1 div.sk-label:hover label.sk-toggleable__label {background-color: #d4ebff;}#sk-container-id-1 div.sk-serial::before {content: \"\";position: absolute;border-left: 1px solid gray;box-sizing: border-box;top: 0;bottom: 0;left: 50%;z-index: 0;}#sk-container-id-1 div.sk-serial {display: flex;flex-direction: column;align-items: center;background-color: white;padding-right: 0.2em;padding-left: 0.2em;position: relative;}#sk-container-id-1 div.sk-item {position: relative;z-index: 1;}#sk-container-id-1 div.sk-parallel {display: flex;align-items: stretch;justify-content: center;background-color: white;position: relative;}#sk-container-id-1 div.sk-item::before, #sk-container-id-1 div.sk-parallel-item::before {content: \"\";position: absolute;border-left: 1px solid gray;box-sizing: border-box;top: 0;bottom: 0;left: 50%;z-index: -1;}#sk-container-id-1 div.sk-parallel-item {display: flex;flex-direction: column;z-index: 1;position: relative;background-color: white;}#sk-container-id-1 div.sk-parallel-item:first-child::after {align-self: flex-end;width: 50%;}#sk-container-id-1 div.sk-parallel-item:last-child::after {align-self: flex-start;width: 50%;}#sk-container-id-1 div.sk-parallel-item:only-child::after {width: 0;}#sk-container-id-1 div.sk-dashed-wrapped {border: 1px dashed gray;margin: 0 0.4em 0.5em 0.4em;box-sizing: border-box;padding-bottom: 0.4em;background-color: white;}#sk-container-id-1 div.sk-label label {font-family: monospace;font-weight: bold;display: inline-block;line-height: 1.2em;}#sk-container-id-1 div.sk-label-container {text-align: center;}#sk-container-id-1 div.sk-container {/* jupyter's `normalize.less` sets `[hidden] { display: none; }` but bootstrap.min.css set `[hidden] { display: none !important; }` so we also need the `!important` here to be able to override the default hidden behavior on the sphinx rendered scikit-learn.org. See: https://github.com/scikit-learn/scikit-learn/issues/21755 */display: inline-block !important;position: relative;}#sk-container-id-1 div.sk-text-repr-fallback {display: none;}</style><div id=\"sk-container-id-1\" class=\"sk-top-container\"><div class=\"sk-text-repr-fallback\"><pre>RandomForestClassifier()</pre><b>In a Jupyter environment, please rerun this cell to show the HTML representation or trust the notebook. <br />On GitHub, the HTML representation is unable to render, please try loading this page with nbviewer.org.</b></div><div class=\"sk-container\" hidden><div class=\"sk-item\"><div class=\"sk-estimator sk-toggleable\"><input class=\"sk-toggleable__control sk-hidden--visually\" id=\"sk-estimator-id-1\" type=\"checkbox\" checked><label for=\"sk-estimator-id-1\" class=\"sk-toggleable__label sk-toggleable__label-arrow\">RandomForestClassifier</label><div class=\"sk-toggleable__content\"><pre>RandomForestClassifier()</pre></div></div></div></div></div>"
            ]
          },
          "metadata": {},
          "execution_count": 41
        }
      ]
    },
    {
      "cell_type": "markdown",
      "source": [
        "PREDICT TEST DATA"
      ],
      "metadata": {
        "id": "Q8kM8kyE3lut"
      }
    },
    {
      "cell_type": "code",
      "source": [
        "y_pred = rf.predict(X_test)"
      ],
      "metadata": {
        "id": "KG-vYWJ23ko5"
      },
      "execution_count": 42,
      "outputs": []
    },
    {
      "cell_type": "code",
      "source": [
        "y_pred"
      ],
      "metadata": {
        "colab": {
          "base_uri": "https://localhost:8080/"
        },
        "id": "yS2DRytE3xm-",
        "outputId": "4697ca97-32b9-46f6-feda-dfe6abaa6d58"
      },
      "execution_count": 43,
      "outputs": [
        {
          "output_type": "execute_result",
          "data": {
            "text/plain": [
              "array([1, 5, 2, 7, 2, 6, 1, 6, 2, 5, 3, 8, 6, 3, 0, 6, 0, 8, 2, 4, 5, 5,\n",
              "       8, 7, 8, 9, 1, 8, 0, 6, 2, 4, 9, 3, 0, 1, 3, 1, 7, 7, 8, 6, 4, 7,\n",
              "       6, 8, 9, 5, 7, 3, 4, 8, 0, 8, 7, 1, 8, 8, 8, 7, 8, 8, 2, 4, 1, 5,\n",
              "       9, 5, 0, 0, 5, 1, 7, 5, 9, 9, 2, 8, 1, 5, 9, 1, 7, 8, 1, 7, 7, 2,\n",
              "       0, 2, 5, 8, 5, 2, 9, 1, 7, 1, 4, 5, 1, 6, 0, 2, 8, 2, 6, 1, 7, 5,\n",
              "       9, 6, 2, 8, 6, 5, 9, 2, 7, 2, 1, 4, 2, 2, 7, 5, 1, 5, 6, 1, 3, 0,\n",
              "       5, 3, 5, 1, 7, 8, 6, 0, 9, 2, 8, 9, 7, 0, 8, 0, 2, 7, 7, 1, 5, 9,\n",
              "       3, 0, 8, 9, 2, 0, 6, 1, 7, 3, 9, 7, 9, 1, 2, 7, 4, 6, 7, 3, 7, 5,\n",
              "       4, 9, 1, 2, 4, 6, 9, 0, 2, 9, 3, 7, 4, 3, 1, 7, 8, 6, 5, 7, 2, 5,\n",
              "       1, 7, 8, 6, 5, 0, 4, 9, 0, 4, 1, 7, 2, 1, 3, 7, 1, 5, 3, 7, 8, 5,\n",
              "       4, 3, 7, 4, 1, 2, 8, 9, 6, 5, 1, 0, 5, 8, 5, 0, 2, 5, 4, 6, 1, 7,\n",
              "       9, 0, 3, 4, 7, 9, 3, 0, 4, 5, 7, 2, 8, 3, 1, 7, 1, 1, 7, 2, 2, 6,\n",
              "       9, 1, 2, 7, 7, 5, 8, 0, 0, 0, 9, 1, 8, 2, 3, 2, 6, 8, 5, 8, 0, 5,\n",
              "       6, 6, 5, 9, 0, 0, 8, 1, 0, 3, 5, 0, 2, 5, 5, 5, 3, 3, 1, 5, 0, 9,\n",
              "       4, 7, 8, 7, 4, 0, 7, 2, 3, 0, 7, 2, 5, 0, 6, 4, 0, 0, 2, 9, 3, 2,\n",
              "       1, 5, 6, 3, 2, 2, 1, 3, 4, 3, 1, 0, 6, 2, 2, 6, 8, 0, 5, 2, 0, 4,\n",
              "       7, 9, 7, 9, 1, 3, 9, 6, 6, 6, 7, 6, 8, 2, 7, 9, 5, 7, 8, 9, 2, 4,\n",
              "       0, 2, 0, 9, 4, 5, 3, 8, 8, 0, 8, 5, 5, 1, 6, 0, 9, 2, 7, 3, 3, 4,\n",
              "       9, 3, 1, 1, 5, 5, 4, 2, 3, 7, 2, 5, 3, 4, 9, 4, 5, 3, 9, 0, 8, 1,\n",
              "       5, 8, 4, 3, 6, 3, 4, 0, 9, 8, 0, 5, 6, 0, 1, 1, 5, 9, 3, 7, 6, 1,\n",
              "       6, 5, 6, 9, 3, 4, 3, 9, 8, 3, 5, 0, 2, 4, 5, 2, 6, 1, 2, 3, 4, 1,\n",
              "       7, 9, 7, 3, 7, 8, 2, 9, 0, 8, 0, 5, 1, 0, 0, 7, 6, 4, 2, 1, 0, 1,\n",
              "       3, 2, 5, 3, 8, 4, 6, 4, 4, 2, 4, 5, 2, 4, 6, 5, 1, 5, 7, 5, 7, 4,\n",
              "       7, 4, 3, 8, 9, 0, 0, 4, 8, 1, 4, 8, 0, 1, 8, 9, 4, 8, 9, 1, 1, 5,\n",
              "       0, 5, 1, 6, 4, 0, 7, 9, 5, 3, 5, 2])"
            ]
          },
          "metadata": {},
          "execution_count": 43
        }
      ]
    },
    {
      "cell_type": "markdown",
      "source": [
        "MODEL ACCURACY"
      ],
      "metadata": {
        "id": "gJlCj5NN4Czd"
      }
    },
    {
      "cell_type": "code",
      "source": [
        "from sklearn.metrics import confusion_matrix, classification_report"
      ],
      "metadata": {
        "id": "uF7R3lPs4Ksy"
      },
      "execution_count": 44,
      "outputs": []
    },
    {
      "cell_type": "code",
      "source": [
        "confusion_matrix(y_test, y_pred)"
      ],
      "metadata": {
        "colab": {
          "base_uri": "https://localhost:8080/"
        },
        "id": "eM00TJEC4QK5",
        "outputId": "6ae8e6ef-8f6f-4f1a-80b2-12a3ad42a34a"
      },
      "execution_count": 45,
      "outputs": [
        {
          "output_type": "execute_result",
          "data": {
            "text/plain": [
              "array([[56,  0,  0,  0,  1,  0,  0,  0,  0,  0],\n",
              "       [ 0, 59,  0,  0,  0,  0,  0,  0,  0,  0],\n",
              "       [ 1,  0, 58,  0,  0,  0,  0,  0,  0,  0],\n",
              "       [ 0,  0,  0, 44,  0,  0,  0,  1,  0,  0],\n",
              "       [ 0,  0,  0,  0, 44,  0,  0,  0,  0,  0],\n",
              "       [ 0,  0,  0,  0,  0, 64,  0,  0,  0,  1],\n",
              "       [ 1,  0,  0,  0,  0,  0, 43,  0,  0,  0],\n",
              "       [ 0,  0,  0,  0,  0,  0,  0, 59,  0,  0],\n",
              "       [ 0,  1,  0,  1,  1,  2,  0,  0, 52,  0],\n",
              "       [ 0,  0,  0,  2,  0,  1,  0,  0,  1, 47]])"
            ]
          },
          "metadata": {},
          "execution_count": 45
        }
      ]
    },
    {
      "cell_type": "code",
      "source": [
        "print(classification_report(y_test, y_pred))"
      ],
      "metadata": {
        "colab": {
          "base_uri": "https://localhost:8080/"
        },
        "id": "5lFgR-BZ4b07",
        "outputId": "37770167-de80-44bc-8a9e-1a7cf679b9db"
      },
      "execution_count": 46,
      "outputs": [
        {
          "output_type": "stream",
          "name": "stdout",
          "text": [
            "              precision    recall  f1-score   support\n",
            "\n",
            "           0       0.97      0.98      0.97        57\n",
            "           1       0.98      1.00      0.99        59\n",
            "           2       1.00      0.98      0.99        59\n",
            "           3       0.94      0.98      0.96        45\n",
            "           4       0.96      1.00      0.98        44\n",
            "           5       0.96      0.98      0.97        65\n",
            "           6       1.00      0.98      0.99        44\n",
            "           7       0.98      1.00      0.99        59\n",
            "           8       0.98      0.91      0.95        57\n",
            "           9       0.98      0.92      0.95        51\n",
            "\n",
            "    accuracy                           0.97       540\n",
            "   macro avg       0.97      0.97      0.97       540\n",
            "weighted avg       0.97      0.97      0.97       540\n",
            "\n"
          ]
        }
      ]
    }
  ]
}